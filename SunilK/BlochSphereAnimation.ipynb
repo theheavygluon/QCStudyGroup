{
 "cells": [
  {
   "cell_type": "code",
   "execution_count": null,
   "metadata": {},
   "outputs": [],
   "source": [
    "# Very nicely done animation\n",
    "# https://sites.google.com/site/tanayroysite/articles/bloch-sphere-animation-using-qutip"
   ]
  },
  {
   "cell_type": "code",
   "execution_count": 9,
   "metadata": {},
   "outputs": [],
   "source": [
    "import matplotlib as mpl\n",
    "from pylab import *\n",
    "from qutip import *\n",
    "from matplotlib import cm\n",
    "import imageio\n",
    "\n",
    "def animate_bloch(states, duration=0.1, save_all=False):\n",
    "\n",
    "    b = Bloch()\n",
    "    b.vector_color = ['r']\n",
    "    b.view = [-40,30]\n",
    "    images=[]\n",
    "    try:\n",
    "        length = len(states)\n",
    "    except:\n",
    "        length = 1\n",
    "        states = [states]\n",
    "    ## normalize colors to the length of data ##\n",
    "    nrm = mpl.colors.Normalize(0,length)\n",
    "    colors = cm.cool(nrm(range(length))) # options: cool, summer, winter, autumn etc.\n",
    "\n",
    "    ## customize sphere properties ##\n",
    "    b.point_color = list(colors) # options: 'r', 'g', 'b' etc.\n",
    "    b.point_marker = ['o']\n",
    "    b.point_size = [30]\n",
    "    \n",
    "    for i in range(length):\n",
    "        b.clear()\n",
    "        b.add_states(states[i])\n",
    "        b.add_states(states[:(i+1)],'point')\n",
    "        if save_all:\n",
    "            b.save(dirc='tmp') #saving images to tmp directory\n",
    "            filename=\"tmp/bloch_%01d.png\" % i\n",
    "        else:\n",
    "            filename='temp_file.png'\n",
    "            b.save(filename)\n",
    "        images.append(imageio.imread(filename))\n",
    "    imageio.mimsave('bloch_anim.gif', images, duration=duration)"
   ]
  },
  {
   "cell_type": "code",
   "execution_count": 10,
   "metadata": {},
   "outputs": [],
   "source": [
    "states = []\n",
    "thetas = linspace(0,pi,21)\n",
    "for theta in thetas:\n",
    "    states.append((cos(theta/2)*basis(2,0) + sin(theta/2)*basis(2,1)).unit())\n",
    "\n",
    "animate_bloch(states, duration=0.1, save_all=False)"
   ]
  },
  {
   "cell_type": "markdown",
   "metadata": {},
   "source": [
    "![SegmentLocal](bloch_anim.gif \"segment\")"
   ]
  },
  {
   "cell_type": "code",
   "execution_count": null,
   "metadata": {},
   "outputs": [],
   "source": []
  }
 ],
 "metadata": {
  "kernelspec": {
   "display_name": "Python 3",
   "language": "python",
   "name": "python3"
  },
  "language_info": {
   "codemirror_mode": {
    "name": "ipython",
    "version": 3
   },
   "file_extension": ".py",
   "mimetype": "text/x-python",
   "name": "python",
   "nbconvert_exporter": "python",
   "pygments_lexer": "ipython3",
   "version": "3.8.3"
  }
 },
 "nbformat": 4,
 "nbformat_minor": 4
}
